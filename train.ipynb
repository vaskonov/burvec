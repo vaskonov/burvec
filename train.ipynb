{
 "cells": [
  {
   "cell_type": "code",
   "execution_count": null,
   "id": "664ca910",
   "metadata": {},
   "outputs": [],
   "source": [
    "%load_ext autoreload\n",
    "%autoreload 2\n",
    "\n",
    "import sys\n",
    "import json\n",
    "from src.train import *\n",
    "from pathlib import Path"
   ]
  },
  {
   "cell_type": "code",
   "execution_count": null,
   "id": "97717934",
   "metadata": {},
   "outputs": [],
   "source": [
    "min_count = 10\n",
    "windows = [2, 5, 10]\n",
    "vector_sizes = [50, 100, 500]\n",
    "languages = ['bxr', 'myv', 'kv']"
   ]
  },
  {
   "cell_type": "code",
   "execution_count": null,
   "id": "07844646",
   "metadata": {},
   "outputs": [],
   "source": [
    "language = languages[2]"
   ]
  },
  {
   "cell_type": "code",
   "execution_count": null,
   "id": "aeee901e",
   "metadata": {},
   "outputs": [],
   "source": [
    "# path = Path(\"./embeddings/\"+str(vector_size)+\"/\"+str(window))\n",
    "# wes = list(path.iterdir())\n",
    "# for we in wes:\n",
    "#     we.unlink()\n",
    "# path.rmdir()\n",
    "path.mkdir(parents=True)"
   ]
  },
  {
   "cell_type": "code",
   "execution_count": null,
   "id": "81acaca7",
   "metadata": {},
   "outputs": [],
   "source": [
    "wiki2text(\n",
    "    \"./data/\"+language+'wiki.xml.bz2', \n",
    "    \"./data/\"+language+'.txt', \n",
    "    article_min_tokens=0,\n",
    "    token_min_len=0,\n",
    "    token_max_len=5000\n",
    ")"
   ]
  },
  {
   "cell_type": "code",
   "execution_count": null,
   "id": "606c1969",
   "metadata": {},
   "outputs": [],
   "source": [
    "for vector_size in vector_sizes:\n",
    "    for window in windows:\n",
    "        print(\"vector_size:\", vector_size, \"window:\", window)\n",
    "        pt = \"./embeddings/\"+language+\"/\"+str(vector_size)+\"/\"+str(window)+\"/\"\n",
    "        w2v(vector_size, window, min_count, fname=pt+\"cbow\", fcorpus=\"./data/\"+language+\".txt\", sg=0)\n",
    "        w2v(vector_size, window, min_count, fname=pt+\"sg\", fcorpus=\"./data/\"+language+\".txt\", sg=1)\n",
    "#         ft(vector_size, window, min_count, fname=pt+\"ft\", fcorpus=\"./data/\"+language+\".txt\")"
   ]
  },
  {
   "cell_type": "code",
   "execution_count": null,
   "id": "8787bfc5",
   "metadata": {},
   "outputs": [],
   "source": [
    "from gensim.test.utils import datapath, get_tmpfile\n",
    "from gensim.scripts.glove2word2vec import glove2word2vec\n",
    "\n",
    "for language in languages:\n",
    "    fname = str(Path(\"./data/\"+language+\".txt\").absolute())\n",
    "    for vector_size in vector_sizes:\n",
    "        for window in windows:\n",
    "            pt = \"./embeddings/\"+language+\"/\"+str(vector_size)+\"/\"+str(window)+\"/\"\n",
    "            wef = \"/tmp/\"+str(vector_size)+str(window)\n",
    "            !glove/vocab_count -min-count $min_count -verbose 2 < $fname > /tmp/vocab.txt\n",
    "            !glove/cooccur -memory 4.0 -vocab-file /tmp/vocab.txt -verbose 2 -window-size $window  < $fname > /tmp/cooccurrence\n",
    "            !glove/shuffle -memory 4.0 -verbose 2 < /tmp/cooccurrence > /tmp/cooccurrence.shuf\n",
    "            !glove/glove -save-file $wef -threads 8 -input-file /tmp/cooccurrence.shuf -x-max 10 -iter 20 -vector-size $vector_size -binary 0 -vocab-file /tmp/vocab.txt -verbose 2\n",
    "\n",
    "            glove_file = datapath(wef+\".txt\")\n",
    "            tmp_file = datapath(pt+\"glove\")\n",
    "            _ = glove2word2vec(glove_file,pt+\"glove\")"
   ]
  },
  {
   "cell_type": "code",
   "execution_count": null,
   "id": "1672207e",
   "metadata": {},
   "outputs": [],
   "source": [
    "from src.pmi import *\n",
    "\n",
    "\n",
    "methods = ['PpmiWeighting', 'EpmiWeighting', 'PlmiWeighting', 'PlogWeighting']\n",
    "\n",
    "for language in languages:\n",
    "    print(language)\n",
    "    x = []\n",
    "    with open(\"./data/\"+language+\".txt\") as file:\n",
    "        for l in file:\n",
    "            x.append(l.strip())\n",
    "\n",
    "    for vector_size in [0]:\n",
    "        for method in methods:\n",
    "            for window in windows:\n",
    "                a = build_pairs(x, window)\n",
    "                prepare_pmi(a)\n",
    "                pmi(method, vector_size)\n",
    "                convert(\"/tmp/space.dm\", \"./embeddings/\"+language+\"/\"+str(vector_size)+\"/\"+str(window)+\"/\"+method)"
   ]
  }
 ],
 "metadata": {
  "kernelspec": {
   "display_name": "Python 3",
   "language": "python",
   "name": "python3"
  },
  "language_info": {
   "codemirror_mode": {
    "name": "ipython",
    "version": 3
   },
   "file_extension": ".py",
   "mimetype": "text/x-python",
   "name": "python",
   "nbconvert_exporter": "python",
   "pygments_lexer": "ipython3",
   "version": "3.7.10"
  }
 },
 "nbformat": 4,
 "nbformat_minor": 5
}
