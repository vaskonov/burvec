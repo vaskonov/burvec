{
 "cells": [
  {
   "cell_type": "code",
   "execution_count": 2,
   "id": "c9b20c90-af4c-4340-ac2a-209a4a74ab08",
   "metadata": {},
   "outputs": [],
   "source": [
    "from sklearn.metrics.pairwise import cosine_similarity"
   ]
  },
  {
   "cell_type": "code",
   "execution_count": 11,
   "id": "cc6d1f8f-33e8-4504-a02c-a1fc33d08869",
   "metadata": {},
   "outputs": [],
   "source": [
    "vecs = {}"
   ]
  },
  {
   "cell_type": "code",
   "execution_count": 12,
   "id": "b2edca80-ced5-4f80-98b9-da280fed0884",
   "metadata": {},
   "outputs": [],
   "source": [
    "vecs['мама'] = [0,2,0,0,1]\n",
    "vecs['мыла'] = [2,0,2,1,0]\n",
    "vecs['раму'] = [0,2,0,1,2]\n",
    "vecs['мылом'] = [0,1,1,0,0]\n",
    "vecs['.'] = [1,0,2,0,0]"
   ]
  },
  {
   "cell_type": "code",
   "execution_count": 13,
   "id": "42fb8f56-740c-4bb3-a5cd-015ff05d9b19",
   "metadata": {},
   "outputs": [
    {
     "data": {
      "text/plain": [
       "dict"
      ]
     },
     "execution_count": 13,
     "metadata": {},
     "output_type": "execute_result"
    }
   ],
   "source": [
    "type(vecs)"
   ]
  },
  {
   "cell_type": "code",
   "execution_count": 14,
   "id": "0f45adb2-0e2d-43d7-bda7-a8a9a647e899",
   "metadata": {},
   "outputs": [
    {
     "name": "stdout",
     "output_type": "stream",
     "text": [
      "мама мама [[1.]]\n",
      "мама мыла [[0.]]\n",
      "мама раму [[0.89442719]]\n",
      "мама мылом [[0.63245553]]\n",
      "мама . [[0.]]\n",
      "мыла мама [[0.]]\n",
      "мыла мыла [[1.]]\n",
      "мыла раму [[0.11111111]]\n",
      "мыла мылом [[0.47140452]]\n",
      "мыла . [[0.89442719]]\n",
      "раму мама [[0.89442719]]\n",
      "раму мыла [[0.11111111]]\n",
      "раму раму [[1.]]\n",
      "раму мылом [[0.47140452]]\n",
      "раму . [[0.]]\n",
      "мылом мама [[0.63245553]]\n",
      "мылом мыла [[0.47140452]]\n",
      "мылом раму [[0.47140452]]\n",
      "мылом мылом [[1.]]\n",
      "мылом . [[0.63245553]]\n",
      ". мама [[0.]]\n",
      ". мыла [[0.89442719]]\n",
      ". раму [[0.]]\n",
      ". мылом [[0.63245553]]\n",
      ". . [[1.]]\n"
     ]
    }
   ],
   "source": [
    "for word, vec in vecs.items():\n",
    "    for word1, vec1 in vecs.items():\n",
    "        print(word, word1, cosine_similarity([vec], [vec1]))"
   ]
  },
  {
   "cell_type": "code",
   "execution_count": null,
   "id": "4d42c3d6-17a8-45b4-902f-b97fb12920ca",
   "metadata": {},
   "outputs": [],
   "source": []
  }
 ],
 "metadata": {
  "kernelspec": {
   "display_name": "Python 3",
   "language": "python",
   "name": "python3"
  },
  "language_info": {
   "codemirror_mode": {
    "name": "ipython",
    "version": 3
   },
   "file_extension": ".py",
   "mimetype": "text/x-python",
   "name": "python",
   "nbconvert_exporter": "python",
   "pygments_lexer": "ipython3",
   "version": "3.7.10"
  }
 },
 "nbformat": 4,
 "nbformat_minor": 5
}
