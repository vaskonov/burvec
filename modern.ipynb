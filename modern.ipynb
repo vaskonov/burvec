{
 "cells": [
  {
   "cell_type": "code",
   "execution_count": null,
   "id": "8a99d927-18f7-4cf8-ace0-405a1b79df96",
   "metadata": {},
   "outputs": [],
   "source": [
    "import sys\n",
    "import json\n",
    "import multiprocessing\n",
    "from tools import loss, score\n",
    "from gensim.corpora.wikicorpus import WikiCorpus\n",
    "from gensim.models.word2vec import Word2Vec\n",
    "from gensim.models.word2vec import LineSentence\n",
    "\n",
    "import logging\n",
    "logging.basicConfig(format='%(asctime)s: %(levelname)s: %(message)s')\n",
    "logging.root.setLevel(level=logging.INFO)\n",
    "\n",
    "wiki = WikiCorpus('bxrwiki-20210820-pages-articles.xml.bz2', token_min_len=4, lower=True)\n",
    "\n",
    "total = 0\n",
    "with open('bxr.txt', 'w') as output:\n",
    "    for text in wiki.get_texts():\n",
    "        output.write(\" \".join(text) + \"\\n\")\n",
    "        total += 1\n",
    "\n",
    "print(total)"
   ]
  },
  {
   "cell_type": "code",
   "execution_count": null,
   "id": "0ada3daa-dfef-4d71-809a-246aa725a113",
   "metadata": {},
   "outputs": [],
   "source": [
    "# https://dumps.wikimedia.org/backup-index.html"
   ]
  },
  {
   "cell_type": "code",
   "execution_count": 57,
   "id": "b98455e5-f572-4912-8df3-1a3dcd815f1a",
   "metadata": {},
   "outputs": [],
   "source": [
    "window = 5\n",
    "min_count = 10\n",
    "vector_size = 100"
   ]
  },
  {
   "cell_type": "code",
   "execution_count": 51,
   "id": "f8659d70-af9e-4c4e-8c2a-8e65c4aac0e5",
   "metadata": {},
   "outputs": [],
   "source": [
    "import multiprocessing\n",
    "from gensim.models.word2vec import Word2Vec\n",
    "    \n",
    "params = {'sg':0, 'vector_size': vector_size, 'window': window, 'min_count': min_count, 'sample': 1e-3, 'workers': max(1, multiprocessing.cpu_count() - 1)}\n",
    "word2vec = Word2Vec(corpus_file='bxr.txt', **params)\n",
    "word2vec.wv.save_word2vec_format(\"./embeddings/cbow/\"+str(vector_size)+\".\"+str(window))"
   ]
  },
  {
   "cell_type": "code",
   "execution_count": 24,
   "id": "f413550c-66ce-4b11-8c00-b54f4400b7d1",
   "metadata": {},
   "outputs": [],
   "source": [
    "from gensim.models import FastText\n",
    "ft = FastText(corpus_file='bxr.txt', vector_size = vector_size, window = window, min_count = min_count, epochs=10)\n",
    "ft.wv.save_word2vec_format(\"./embeddings/ft/\"+str(vector_size)+\".\"+str(window))"
   ]
  },
  {
   "cell_type": "code",
   "execution_count": 52,
   "id": "d0b2ab8a-934a-47fc-ad24-46645d8fd922",
   "metadata": {},
   "outputs": [],
   "source": [
    "scores = score(\"./evaluation/bxr.json\", \"./embeddings/cbow/\"+str(vector_size)+\".\"+str(window))"
   ]
  },
  {
   "cell_type": "code",
   "execution_count": 53,
   "id": "fdb62775-cd88-4e67-90dd-9b04da6d6605",
   "metadata": {},
   "outputs": [
    {
     "data": {
      "text/plain": [
       "tensor(0.1141, dtype=torch.float64)"
      ]
     },
     "execution_count": 53,
     "metadata": {},
     "output_type": "execute_result"
    }
   ],
   "source": [
    "loss(scores)"
   ]
  },
  {
   "cell_type": "code",
   "execution_count": null,
   "id": "ff79f832-f0a9-4cad-a02b-3ddc3fec4c34",
   "metadata": {},
   "outputs": [],
   "source": [
    "!glove/vocab_count -min-count $min_count -verbose 2 < bxr.txt > /tmp/vocab.txt\n",
    "!glove/cooccur -memory 4.0 -vocab-file /tmp/vocab.txt -verbose 2 -window-size $window  < bxr.txt > /tmp/cooccurrence\n",
    "!glove/shuffle -memory 4.0 -verbose 2 < /tmp/cooccurrence > /tmp/cooccurrence.shuf\n",
    "!glove/glove -save-file ./embeddings/glove/$vector_size$window -threads 8 -input-file /tmp/cooccurrence.shuf -x-max 10 -iter 20 -vector-size $vector_size -binary 0 -vocab-file /tmp/vocab.txt -verbose 2"
   ]
  },
  {
   "cell_type": "code",
   "execution_count": null,
   "id": "81f7bc93-ca61-4146-8988-a00c1855e766",
   "metadata": {},
   "outputs": [],
   "source": []
  },
  {
   "cell_type": "code",
   "execution_count": 20,
   "id": "afa772c9-41a4-47c0-b2ce-7206aa1081e1",
   "metadata": {},
   "outputs": [
    {
     "ename": "ModuleNotFoundError",
     "evalue": "No module named 'py_matrix_utils'",
     "output_type": "error",
     "traceback": [
      "\u001b[0;31m---------------------------------------------------------------------------\u001b[0m",
      "\u001b[0;31mModuleNotFoundError\u001b[0m                       Traceback (most recent call last)",
      "\u001b[0;32m<ipython-input-20-2bdb552d7532>\u001b[0m in \u001b[0;36m<module>\u001b[0;34m\u001b[0m\n\u001b[0;32m----> 1\u001b[0;31m \u001b[0;32mfrom\u001b[0m \u001b[0mcomposes\u001b[0m\u001b[0;34m.\u001b[0m\u001b[0msemantic_space\u001b[0m\u001b[0;34m.\u001b[0m\u001b[0mspace\u001b[0m \u001b[0;32mimport\u001b[0m \u001b[0mSpace\u001b[0m\u001b[0;34m\u001b[0m\u001b[0;34m\u001b[0m\u001b[0m\n\u001b[0m\u001b[1;32m      2\u001b[0m \u001b[0;32mfrom\u001b[0m \u001b[0mcomposes\u001b[0m\u001b[0;34m.\u001b[0m\u001b[0mtransformation\u001b[0m\u001b[0;34m.\u001b[0m\u001b[0mscaling\u001b[0m\u001b[0;34m.\u001b[0m\u001b[0mppmi_weighting\u001b[0m \u001b[0;32mimport\u001b[0m \u001b[0mPpmiWeighting\u001b[0m\u001b[0;34m\u001b[0m\u001b[0;34m\u001b[0m\u001b[0m\n\u001b[1;32m      3\u001b[0m \u001b[0;31m# from composes.transformation.dim_reduction.svd import Svd\u001b[0m\u001b[0;34m\u001b[0m\u001b[0;34m\u001b[0m\u001b[0;34m\u001b[0m\u001b[0m\n\u001b[1;32m      4\u001b[0m \u001b[0;32mfrom\u001b[0m \u001b[0mcomposes\u001b[0m\u001b[0;34m.\u001b[0m\u001b[0mmatrix\u001b[0m\u001b[0;34m.\u001b[0m\u001b[0msparse_matrix\u001b[0m \u001b[0;32mimport\u001b[0m \u001b[0mSparseMatrix\u001b[0m\u001b[0;34m\u001b[0m\u001b[0;34m\u001b[0m\u001b[0m\n\u001b[1;32m      5\u001b[0m \u001b[0;32mfrom\u001b[0m \u001b[0mcomposes\u001b[0m\u001b[0;34m.\u001b[0m\u001b[0msimilarity\u001b[0m\u001b[0;34m.\u001b[0m\u001b[0mcos\u001b[0m \u001b[0;32mimport\u001b[0m \u001b[0mCosSimilarity\u001b[0m\u001b[0;34m\u001b[0m\u001b[0;34m\u001b[0m\u001b[0m\n",
      "\u001b[0;32m~/burvec/composes/semantic_space/space.py\u001b[0m in \u001b[0;36m<module>\u001b[0;34m\u001b[0m\n\u001b[1;32m     14\u001b[0m \u001b[0;32mfrom\u001b[0m \u001b[0mcomposes\u001b[0m\u001b[0;34m.\u001b[0m\u001b[0mutils\u001b[0m\u001b[0;34m.\u001b[0m\u001b[0mgen_utils\u001b[0m \u001b[0;32mimport\u001b[0m \u001b[0massert_is_instance\u001b[0m\u001b[0;34m\u001b[0m\u001b[0;34m\u001b[0m\u001b[0m\n\u001b[1;32m     15\u001b[0m \u001b[0;32mfrom\u001b[0m \u001b[0mcomposes\u001b[0m\u001b[0;34m.\u001b[0m\u001b[0mutils\u001b[0m\u001b[0;34m.\u001b[0m\u001b[0mspace_utils\u001b[0m \u001b[0;32mimport\u001b[0m \u001b[0madd_items_to_dict\u001b[0m\u001b[0;34m\u001b[0m\u001b[0;34m\u001b[0m\u001b[0m\n\u001b[0;32m---> 16\u001b[0;31m \u001b[0;32mfrom\u001b[0m \u001b[0mcomposes\u001b[0m\u001b[0;34m.\u001b[0m\u001b[0mutils\u001b[0m\u001b[0;34m.\u001b[0m\u001b[0mmatrix_utils\u001b[0m \u001b[0;32mimport\u001b[0m \u001b[0mresolve_type_conflict\u001b[0m\u001b[0;34m\u001b[0m\u001b[0;34m\u001b[0m\u001b[0m\n\u001b[0m\u001b[1;32m     17\u001b[0m \u001b[0;32mfrom\u001b[0m \u001b[0mcomposes\u001b[0m\u001b[0;34m.\u001b[0m\u001b[0mutils\u001b[0m\u001b[0;34m.\u001b[0m\u001b[0mmatrix_utils\u001b[0m \u001b[0;32mimport\u001b[0m \u001b[0mget_type_of_largest\u001b[0m\u001b[0;34m\u001b[0m\u001b[0;34m\u001b[0m\u001b[0m\n\u001b[1;32m     18\u001b[0m \u001b[0;32mfrom\u001b[0m \u001b[0mcomposes\u001b[0m\u001b[0;34m.\u001b[0m\u001b[0mmatrix\u001b[0m\u001b[0;34m.\u001b[0m\u001b[0mmatrix\u001b[0m \u001b[0;32mimport\u001b[0m \u001b[0mMatrix\u001b[0m\u001b[0;34m\u001b[0m\u001b[0;34m\u001b[0m\u001b[0m\n",
      "\u001b[0;32m~/burvec/composes/utils/matrix_utils.py\u001b[0m in \u001b[0;36m<module>\u001b[0;34m\u001b[0m\n\u001b[1;32m      5\u001b[0m \u001b[0;32mfrom\u001b[0m \u001b[0mcomposes\u001b[0m\u001b[0;34m.\u001b[0m\u001b[0mmatrix\u001b[0m\u001b[0;34m.\u001b[0m\u001b[0mmatrix\u001b[0m \u001b[0;32mimport\u001b[0m \u001b[0mMatrix\u001b[0m\u001b[0;34m\u001b[0m\u001b[0;34m\u001b[0m\u001b[0m\n\u001b[1;32m      6\u001b[0m \u001b[0;32mfrom\u001b[0m \u001b[0mscipy\u001b[0m\u001b[0;34m.\u001b[0m\u001b[0msparse\u001b[0m \u001b[0;32mimport\u001b[0m \u001b[0missparse\u001b[0m\u001b[0;34m\u001b[0m\u001b[0;34m\u001b[0m\u001b[0m\n\u001b[0;32m----> 7\u001b[0;31m \u001b[0;32mfrom\u001b[0m \u001b[0mpy_matrix_utils\u001b[0m \u001b[0;32mimport\u001b[0m \u001b[0mis_array\u001b[0m\u001b[0;34m\u001b[0m\u001b[0;34m\u001b[0m\u001b[0m\n\u001b[0m\u001b[1;32m      8\u001b[0m \u001b[0;32mfrom\u001b[0m \u001b[0mwarnings\u001b[0m \u001b[0;32mimport\u001b[0m \u001b[0mwarn\u001b[0m\u001b[0;34m\u001b[0m\u001b[0;34m\u001b[0m\u001b[0m\n\u001b[1;32m      9\u001b[0m \u001b[0;34m\u001b[0m\u001b[0m\n",
      "\u001b[0;31mModuleNotFoundError\u001b[0m: No module named 'py_matrix_utils'"
     ]
    }
   ],
   "source": [
    "from composes.semantic_space.space import Space\n",
    "from composes.transformation.scaling.ppmi_weighting import PpmiWeighting\n",
    "# from composes.transformation.dim_reduction.svd import Svd\n",
    "from composes.matrix.sparse_matrix import SparseMatrix\n",
    "from composes.similarity.cos import CosSimilarity"
   ]
  },
  {
   "cell_type": "code",
   "execution_count": 21,
   "id": "deeaf5ec-1b91-4c39-a159-cd6554f0bc51",
   "metadata": {},
   "outputs": [
    {
     "name": "stderr",
     "output_type": "stream",
     "text": [
      "/home/com/burvec/tools.py:39: SyntaxWarning: assertion is always true, perhaps remove parentheses?\n",
      "  assert(build_pairs(['I like apples and alcohol'],1), [('I', 'like'), ('like', 'I'), ('like', 'apples'), ('apples', 'like'), ('apples', 'and'), ('and', 'apples'), ('and', 'alcohol'), ('alcohol', 'and')])\n"
     ]
    },
    {
     "name": "stdout",
     "output_type": "stream",
     "text": [
      "build_pairs: total articles 1\n",
      "build_pairs: ng: 1  num of pairs: 8\n"
     ]
    }
   ],
   "source": [
    "# from tools import build_pairs"
   ]
  },
  {
   "cell_type": "code",
   "execution_count": null,
   "id": "f9ba1448-0fc1-4e07-b554-201f92480917",
   "metadata": {},
   "outputs": [],
   "source": [
    "from nltk.util import ngrams\n",
    "\n",
    "\n",
    "print(list(ngrams(['BEG','BEG','I', 'like', 'apples','END','END'],3)))\n",
    "c = dict(Counter(word_context))\n",
    "save(c, linkage, th, post_lemma, word_lemma, 'pmi',ng)\n",
    "\n",
    " with open('./'+folder+'/'+linkage+'-'+str(th)+'-'+str(ng)+'-cols', 'w') as f:\n",
    "        for col in cols:\n",
    "            f.write(col + \"\\n\")\n",
    "\n",
    "with open('./'+folder+'/'+linkage+'-'+str(th)+'-'+str(ng)+'-rows', 'w') as f:\n",
    "        for row in rows:\n",
    "            f.write(row + \"\\n\")\n",
    "\n",
    "with open('./'+folder+'/'+linkage+'-'+str(th)+'-'+str(ng)+'-data', 'w') as f:\n",
    "        for dt in data:\n",
    "            f.write(dt + \"\\n\")"
   ]
  },
  {
   "cell_type": "code",
   "execution_count": 22,
   "id": "9092afe4-8a46-4136-84aa-fb96c6f8b2c6",
   "metadata": {},
   "outputs": [
    {
     "ename": "ModuleNotFoundError",
     "evalue": "No module named 'py_matrix_utils'",
     "output_type": "error",
     "traceback": [
      "\u001b[0;31m---------------------------------------------------------------------------\u001b[0m",
      "\u001b[0;31mModuleNotFoundError\u001b[0m                       Traceback (most recent call last)",
      "\u001b[0;32m<ipython-input-22-5a9a60b0870a>\u001b[0m in \u001b[0;36m<module>\u001b[0;34m\u001b[0m\n\u001b[0;32m----> 1\u001b[0;31m \u001b[0;32mfrom\u001b[0m \u001b[0mcomposes\u001b[0m\u001b[0;34m.\u001b[0m\u001b[0msemantic_space\u001b[0m\u001b[0;34m.\u001b[0m\u001b[0mspace\u001b[0m \u001b[0;32mimport\u001b[0m \u001b[0mSpace\u001b[0m\u001b[0;34m\u001b[0m\u001b[0;34m\u001b[0m\u001b[0m\n\u001b[0m",
      "\u001b[0;32m~/burvec/composes/semantic_space/space.py\u001b[0m in \u001b[0;36m<module>\u001b[0;34m\u001b[0m\n\u001b[1;32m     14\u001b[0m \u001b[0;32mfrom\u001b[0m \u001b[0mcomposes\u001b[0m\u001b[0;34m.\u001b[0m\u001b[0mutils\u001b[0m\u001b[0;34m.\u001b[0m\u001b[0mgen_utils\u001b[0m \u001b[0;32mimport\u001b[0m \u001b[0massert_is_instance\u001b[0m\u001b[0;34m\u001b[0m\u001b[0;34m\u001b[0m\u001b[0m\n\u001b[1;32m     15\u001b[0m \u001b[0;32mfrom\u001b[0m \u001b[0mcomposes\u001b[0m\u001b[0;34m.\u001b[0m\u001b[0mutils\u001b[0m\u001b[0;34m.\u001b[0m\u001b[0mspace_utils\u001b[0m \u001b[0;32mimport\u001b[0m \u001b[0madd_items_to_dict\u001b[0m\u001b[0;34m\u001b[0m\u001b[0;34m\u001b[0m\u001b[0m\n\u001b[0;32m---> 16\u001b[0;31m \u001b[0;32mfrom\u001b[0m \u001b[0mcomposes\u001b[0m\u001b[0;34m.\u001b[0m\u001b[0mutils\u001b[0m\u001b[0;34m.\u001b[0m\u001b[0mmatrix_utils\u001b[0m \u001b[0;32mimport\u001b[0m \u001b[0mresolve_type_conflict\u001b[0m\u001b[0;34m\u001b[0m\u001b[0;34m\u001b[0m\u001b[0m\n\u001b[0m\u001b[1;32m     17\u001b[0m \u001b[0;32mfrom\u001b[0m \u001b[0mcomposes\u001b[0m\u001b[0;34m.\u001b[0m\u001b[0mutils\u001b[0m\u001b[0;34m.\u001b[0m\u001b[0mmatrix_utils\u001b[0m \u001b[0;32mimport\u001b[0m \u001b[0mget_type_of_largest\u001b[0m\u001b[0;34m\u001b[0m\u001b[0;34m\u001b[0m\u001b[0m\n\u001b[1;32m     18\u001b[0m \u001b[0;32mfrom\u001b[0m \u001b[0mcomposes\u001b[0m\u001b[0;34m.\u001b[0m\u001b[0mmatrix\u001b[0m\u001b[0;34m.\u001b[0m\u001b[0mmatrix\u001b[0m \u001b[0;32mimport\u001b[0m \u001b[0mMatrix\u001b[0m\u001b[0;34m\u001b[0m\u001b[0;34m\u001b[0m\u001b[0m\n",
      "\u001b[0;32m~/burvec/composes/utils/matrix_utils.py\u001b[0m in \u001b[0;36m<module>\u001b[0;34m\u001b[0m\n\u001b[1;32m      5\u001b[0m \u001b[0;32mfrom\u001b[0m \u001b[0mcomposes\u001b[0m\u001b[0;34m.\u001b[0m\u001b[0mmatrix\u001b[0m\u001b[0;34m.\u001b[0m\u001b[0mmatrix\u001b[0m \u001b[0;32mimport\u001b[0m \u001b[0mMatrix\u001b[0m\u001b[0;34m\u001b[0m\u001b[0;34m\u001b[0m\u001b[0m\n\u001b[1;32m      6\u001b[0m \u001b[0;32mfrom\u001b[0m \u001b[0mscipy\u001b[0m\u001b[0;34m.\u001b[0m\u001b[0msparse\u001b[0m \u001b[0;32mimport\u001b[0m \u001b[0missparse\u001b[0m\u001b[0;34m\u001b[0m\u001b[0;34m\u001b[0m\u001b[0m\n\u001b[0;32m----> 7\u001b[0;31m \u001b[0;32mfrom\u001b[0m \u001b[0mpy_matrix_utils\u001b[0m \u001b[0;32mimport\u001b[0m \u001b[0mis_array\u001b[0m\u001b[0;34m\u001b[0m\u001b[0;34m\u001b[0m\u001b[0m\n\u001b[0m\u001b[1;32m      8\u001b[0m \u001b[0;32mfrom\u001b[0m \u001b[0mwarnings\u001b[0m \u001b[0;32mimport\u001b[0m \u001b[0mwarn\u001b[0m\u001b[0;34m\u001b[0m\u001b[0;34m\u001b[0m\u001b[0m\n\u001b[1;32m      9\u001b[0m \u001b[0;34m\u001b[0m\u001b[0m\n",
      "\u001b[0;31mModuleNotFoundError\u001b[0m: No module named 'py_matrix_utils'"
     ]
    }
   ],
   "source": [
    "from composes.semantic_space.space import Space"
   ]
  },
  {
   "cell_type": "code",
   "execution_count": 6,
   "id": "20f1c47c-28c5-45e2-b399-c9df5a5b7d33",
   "metadata": {},
   "outputs": [
    {
     "name": "stderr",
     "output_type": "stream",
     "text": [
      "/home/com/miniconda2/envs/py37/lib/python3.7/site-packages/gensim/similarities/__init__.py:15: UserWarning: The gensim.similarities.levenshtein submodule is disabled, because the optional Levenshtein package <https://pypi.org/project/python-Levenshtein/> is unavailable. Install Levenhstein (e.g. `pip install python-Levenshtein`) to suppress this warning.\n",
      "  warnings.warn(msg)\n"
     ]
    }
   ],
   "source": [
    "from gensim.models import KeyedVectors\n",
    "wv_from_text = KeyedVectors.load_word2vec_format(\"/tmp/space.w2v\", binary=False)\n",
    "# wv = KeyedVectors.load(\"/tmp/space.dm\", mmap='r')"
   ]
  },
  {
   "cell_type": "code",
   "execution_count": 7,
   "id": "8a045a91-a9d8-42a3-9453-b3550cc1052d",
   "metadata": {},
   "outputs": [
    {
     "data": {
      "text/plain": [
       "[('эргэд', 0.5679332613945007),\n",
       " ('хүнүүд', 0.5026717782020569),\n",
       " ('эдибхэжэл', 0.47076040506362915),\n",
       " ('ажаһуур', 0.44183477759361267),\n",
       " ('еврейнүүдтэ', 0.44101768732070923),\n",
       " ('буса', 0.43928638100624084),\n",
       " ('амидарал', 0.42855411767959595),\n",
       " ('амидарха', 0.4201429486274719),\n",
       " ('ниигэм', 0.4161384403705597),\n",
       " ('хүлэнлдэг', 0.41543832421302795)]"
      ]
     },
     "execution_count": 7,
     "metadata": {},
     "output_type": "execute_result"
    }
   ],
   "source": [
    "wv_from_text.most_similar(\"өөһэд\")"
   ]
  },
  {
   "cell_type": "code",
   "execution_count": 10,
   "id": "bd8aacd0-bc95-4811-b87b-5a14ac77ae86",
   "metadata": {},
   "outputs": [
    {
     "ename": "KeyError",
     "evalue": "\"Key 'ниигэмw' not present\"",
     "output_type": "error",
     "traceback": [
      "\u001b[0;31m---------------------------------------------------------------------------\u001b[0m",
      "\u001b[0;31mKeyError\u001b[0m                                  Traceback (most recent call last)",
      "\u001b[0;32m<ipython-input-10-7b4ba2d8617f>\u001b[0m in \u001b[0;36m<module>\u001b[0;34m\u001b[0m\n\u001b[0;32m----> 1\u001b[0;31m \u001b[0mwv_from_text\u001b[0m\u001b[0;34m.\u001b[0m\u001b[0msimilarity\u001b[0m\u001b[0;34m(\u001b[0m\u001b[0;34m\"ниигэм\"\u001b[0m\u001b[0;34m,\u001b[0m \u001b[0;34m\"ниигэмw\"\u001b[0m\u001b[0;34m)\u001b[0m\u001b[0;34m\u001b[0m\u001b[0;34m\u001b[0m\u001b[0m\n\u001b[0m",
      "\u001b[0;32m~/miniconda2/envs/py37/lib/python3.7/site-packages/gensim/models/keyedvectors.py\u001b[0m in \u001b[0;36msimilarity\u001b[0;34m(self, w1, w2)\u001b[0m\n\u001b[1;32m   1153\u001b[0m \u001b[0;34m\u001b[0m\u001b[0m\n\u001b[1;32m   1154\u001b[0m         \"\"\"\n\u001b[0;32m-> 1155\u001b[0;31m         \u001b[0;32mreturn\u001b[0m \u001b[0mdot\u001b[0m\u001b[0;34m(\u001b[0m\u001b[0mmatutils\u001b[0m\u001b[0;34m.\u001b[0m\u001b[0munitvec\u001b[0m\u001b[0;34m(\u001b[0m\u001b[0mself\u001b[0m\u001b[0;34m[\u001b[0m\u001b[0mw1\u001b[0m\u001b[0;34m]\u001b[0m\u001b[0;34m)\u001b[0m\u001b[0;34m,\u001b[0m \u001b[0mmatutils\u001b[0m\u001b[0;34m.\u001b[0m\u001b[0munitvec\u001b[0m\u001b[0;34m(\u001b[0m\u001b[0mself\u001b[0m\u001b[0;34m[\u001b[0m\u001b[0mw2\u001b[0m\u001b[0;34m]\u001b[0m\u001b[0;34m)\u001b[0m\u001b[0;34m)\u001b[0m\u001b[0;34m\u001b[0m\u001b[0;34m\u001b[0m\u001b[0m\n\u001b[0m\u001b[1;32m   1156\u001b[0m \u001b[0;34m\u001b[0m\u001b[0m\n\u001b[1;32m   1157\u001b[0m     \u001b[0;32mdef\u001b[0m \u001b[0mn_similarity\u001b[0m\u001b[0;34m(\u001b[0m\u001b[0mself\u001b[0m\u001b[0;34m,\u001b[0m \u001b[0mws1\u001b[0m\u001b[0;34m,\u001b[0m \u001b[0mws2\u001b[0m\u001b[0;34m)\u001b[0m\u001b[0;34m:\u001b[0m\u001b[0;34m\u001b[0m\u001b[0;34m\u001b[0m\u001b[0m\n",
      "\u001b[0;32m~/miniconda2/envs/py37/lib/python3.7/site-packages/gensim/models/keyedvectors.py\u001b[0m in \u001b[0;36m__getitem__\u001b[0;34m(self, key_or_keys)\u001b[0m\n\u001b[1;32m    377\u001b[0m         \"\"\"\n\u001b[1;32m    378\u001b[0m         \u001b[0;32mif\u001b[0m \u001b[0misinstance\u001b[0m\u001b[0;34m(\u001b[0m\u001b[0mkey_or_keys\u001b[0m\u001b[0;34m,\u001b[0m \u001b[0mKEY_TYPES\u001b[0m\u001b[0;34m)\u001b[0m\u001b[0;34m:\u001b[0m\u001b[0;34m\u001b[0m\u001b[0;34m\u001b[0m\u001b[0m\n\u001b[0;32m--> 379\u001b[0;31m             \u001b[0;32mreturn\u001b[0m \u001b[0mself\u001b[0m\u001b[0;34m.\u001b[0m\u001b[0mget_vector\u001b[0m\u001b[0;34m(\u001b[0m\u001b[0mkey_or_keys\u001b[0m\u001b[0;34m)\u001b[0m\u001b[0;34m\u001b[0m\u001b[0;34m\u001b[0m\u001b[0m\n\u001b[0m\u001b[1;32m    380\u001b[0m \u001b[0;34m\u001b[0m\u001b[0m\n\u001b[1;32m    381\u001b[0m         \u001b[0;32mreturn\u001b[0m \u001b[0mvstack\u001b[0m\u001b[0;34m(\u001b[0m\u001b[0;34m[\u001b[0m\u001b[0mself\u001b[0m\u001b[0;34m.\u001b[0m\u001b[0mget_vector\u001b[0m\u001b[0;34m(\u001b[0m\u001b[0mkey\u001b[0m\u001b[0;34m)\u001b[0m \u001b[0;32mfor\u001b[0m \u001b[0mkey\u001b[0m \u001b[0;32min\u001b[0m \u001b[0mkey_or_keys\u001b[0m\u001b[0;34m]\u001b[0m\u001b[0;34m)\u001b[0m\u001b[0;34m\u001b[0m\u001b[0;34m\u001b[0m\u001b[0m\n",
      "\u001b[0;32m~/miniconda2/envs/py37/lib/python3.7/site-packages/gensim/models/keyedvectors.py\u001b[0m in \u001b[0;36mget_vector\u001b[0;34m(self, key, norm)\u001b[0m\n\u001b[1;32m    420\u001b[0m \u001b[0;34m\u001b[0m\u001b[0m\n\u001b[1;32m    421\u001b[0m         \"\"\"\n\u001b[0;32m--> 422\u001b[0;31m         \u001b[0mindex\u001b[0m \u001b[0;34m=\u001b[0m \u001b[0mself\u001b[0m\u001b[0;34m.\u001b[0m\u001b[0mget_index\u001b[0m\u001b[0;34m(\u001b[0m\u001b[0mkey\u001b[0m\u001b[0;34m)\u001b[0m\u001b[0;34m\u001b[0m\u001b[0;34m\u001b[0m\u001b[0m\n\u001b[0m\u001b[1;32m    423\u001b[0m         \u001b[0;32mif\u001b[0m \u001b[0mnorm\u001b[0m\u001b[0;34m:\u001b[0m\u001b[0;34m\u001b[0m\u001b[0;34m\u001b[0m\u001b[0m\n\u001b[1;32m    424\u001b[0m             \u001b[0mself\u001b[0m\u001b[0;34m.\u001b[0m\u001b[0mfill_norms\u001b[0m\u001b[0;34m(\u001b[0m\u001b[0;34m)\u001b[0m\u001b[0;34m\u001b[0m\u001b[0;34m\u001b[0m\u001b[0m\n",
      "\u001b[0;32m~/miniconda2/envs/py37/lib/python3.7/site-packages/gensim/models/keyedvectors.py\u001b[0m in \u001b[0;36mget_index\u001b[0;34m(self, key, default)\u001b[0m\n\u001b[1;32m    394\u001b[0m             \u001b[0;32mreturn\u001b[0m \u001b[0mdefault\u001b[0m\u001b[0;34m\u001b[0m\u001b[0;34m\u001b[0m\u001b[0m\n\u001b[1;32m    395\u001b[0m         \u001b[0;32melse\u001b[0m\u001b[0;34m:\u001b[0m\u001b[0;34m\u001b[0m\u001b[0;34m\u001b[0m\u001b[0m\n\u001b[0;32m--> 396\u001b[0;31m             \u001b[0;32mraise\u001b[0m \u001b[0mKeyError\u001b[0m\u001b[0;34m(\u001b[0m\u001b[0;34mf\"Key '{key}' not present\"\u001b[0m\u001b[0;34m)\u001b[0m\u001b[0;34m\u001b[0m\u001b[0;34m\u001b[0m\u001b[0m\n\u001b[0m\u001b[1;32m    397\u001b[0m \u001b[0;34m\u001b[0m\u001b[0m\n\u001b[1;32m    398\u001b[0m     \u001b[0;32mdef\u001b[0m \u001b[0mget_vector\u001b[0m\u001b[0;34m(\u001b[0m\u001b[0mself\u001b[0m\u001b[0;34m,\u001b[0m \u001b[0mkey\u001b[0m\u001b[0;34m,\u001b[0m \u001b[0mnorm\u001b[0m\u001b[0;34m=\u001b[0m\u001b[0;32mFalse\u001b[0m\u001b[0;34m)\u001b[0m\u001b[0;34m:\u001b[0m\u001b[0;34m\u001b[0m\u001b[0;34m\u001b[0m\u001b[0m\n",
      "\u001b[0;31mKeyError\u001b[0m: \"Key 'ниигэмw' not present\""
     ]
    }
   ],
   "source": [
    "wv_from_text.similarity(\"ниигэм\", \"ниигэмw\")"
   ]
  },
  {
   "cell_type": "code",
   "execution_count": null,
   "id": "1edb7063-666b-4199-bd05-5494ac6cac31",
   "metadata": {},
   "outputs": [],
   "source": [
    "Ғаилә Инәй Апай\n",
    "семья папа мама брат сестра\n",
    "страна район село деревня\n",
    "река волга нил лена\n",
    "язык русский бурятский\n",
    "религия католики мусульмане\n",
    "гора\n",
    "науки\n",
    "напиток вода чай сок молоко простокваша\n",
    "скот овца корова конь\n",
    "одежда шапка рукавицы халат сапоги\n",
    "посуда тарелка ложка уружка сковородка\n",
    "птица коршун ласточка воробей орел\n",
    "сустав\n",
    "нюур главза нос губа лоб\n",
    "тело нога рука спина грудь живот\n",
    "снег роса туман град иней ливень\n",
    "цыет\n",
    "ткань шелк шерсть бархат\n",
    "труд загадка поговорка былина сказка\n",
    "дом дверь ворота стена кровля лестница крыльцо\n",
    "вкус сладкий соленый горький\n",
    "школа учитель ученик книга задание\n",
    "космос вселенная звезда луна\n",
    "спорт"
   ]
  },
  {
   "cell_type": "code",
   "execution_count": 1,
   "id": "39c119e0-ad21-466c-bcce-7d64238fab75",
   "metadata": {},
   "outputs": [
    {
     "name": "stderr",
     "output_type": "stream",
     "text": [
      "/home/com/burvec/tools.py:39: SyntaxWarning: assertion is always true, perhaps remove parentheses?\n",
      "  assert(build_pairs(['I like apples and alcohol'],1), [('I', 'like'), ('like', 'I'), ('like', 'apples'), ('apples', 'like'), ('apples', 'and'), ('and', 'apples'), ('and', 'alcohol'), ('alcohol', 'and')])\n"
     ]
    },
    {
     "name": "stdout",
     "output_type": "stream",
     "text": [
      "build_pairs: total articles 1\n",
      "build_pairs: ng: 1  num of pairs: 8\n"
     ]
    }
   ],
   "source": [
    "%load_ext autoreload\n",
    "%autoreload 2\n",
    "from tools import convert"
   ]
  },
  {
   "cell_type": "code",
   "execution_count": 5,
   "id": "aa3ee12b-8255-4b5d-ac5f-44c0bceba322",
   "metadata": {},
   "outputs": [
    {
     "name": "stderr",
     "output_type": "stream",
     "text": [
      "/home/com/burvec/tools.py:39: SyntaxWarning: assertion is always true, perhaps remove parentheses?\n",
      "  assert(build_pairs(['I like apples and alcohol'],1), [('I', 'like'), ('like', 'I'), ('like', 'apples'), ('apples', 'like'), ('apples', 'and'), ('and', 'apples'), ('and', 'alcohol'), ('alcohol', 'and')])\n"
     ]
    },
    {
     "name": "stdout",
     "output_type": "stream",
     "text": [
      "build_pairs: total articles 1\n",
      "build_pairs: ng: 1  num of pairs: 8\n"
     ]
    }
   ],
   "source": [
    "convert(\"/tmp/space.dm\", \"/tmp/space.w2v\")"
   ]
  },
  {
   "cell_type": "code",
   "execution_count": null,
   "id": "ee129f9b-7d2a-488a-a8fe-bd48617c5b75",
   "metadata": {},
   "outputs": [],
   "source": [
    "wv_from_text.similarity(\"ниигэм\", \"ниигэмw\")"
   ]
  },
  {
   "cell_type": "code",
   "execution_count": 11,
   "id": "f5b24d28-f5ae-4829-b94e-e2dc06991b8a",
   "metadata": {},
   "outputs": [],
   "source": [
    "from tools import count_pairs"
   ]
  },
  {
   "cell_type": "code",
   "execution_count": 45,
   "id": "a81191c4-a11a-4d80-b8d2-def2eb30b660",
   "metadata": {},
   "outputs": [],
   "source": [
    "a = KeyedVectors.load_word2vec_format(\"embeddings/ft/100.5\", binary=False)"
   ]
  },
  {
   "cell_type": "code",
   "execution_count": null,
   "id": "2dca2e1a-6b39-4a06-a7a9-7d35b667d5e6",
   "metadata": {},
   "outputs": [],
   "source": [
    "a.index_to_key"
   ]
  },
  {
   "cell_type": "code",
   "execution_count": 89,
   "id": "22b2bf20-0e87-4e94-acd4-5e2bf15026d8",
   "metadata": {},
   "outputs": [],
   "source": [
    "x = []\n",
    "with open(\"bxr.txt\") as file:\n",
    "    for l in file:\n",
    "        x.append(l.strip())"
   ]
  },
  {
   "cell_type": "code",
   "execution_count": 81,
   "id": "42caeff0-e924-42a1-89f8-8f4d2d3010fb",
   "metadata": {},
   "outputs": [
    {
     "data": {
      "text/plain": [
       "1501"
      ]
     },
     "execution_count": 81,
     "metadata": {},
     "output_type": "execute_result"
    }
   ],
   "source": [
    "len(x)"
   ]
  },
  {
   "cell_type": "code",
   "execution_count": 90,
   "id": "2a9c8986-2d1c-407b-a519-fb9a9316c6db",
   "metadata": {},
   "outputs": [],
   "source": [
    "from tools import build_pairs\n",
    "a = build_pairs(x, 3)"
   ]
  },
  {
   "cell_type": "code",
   "execution_count": null,
   "id": "e0906459-ca1b-4704-814b-c98ec200d825",
   "metadata": {},
   "outputs": [],
   "source": [
    "a"
   ]
  },
  {
   "cell_type": "code",
   "execution_count": 92,
   "id": "642ae72e-10cb-4771-a4ab-841a6091302e",
   "metadata": {},
   "outputs": [],
   "source": [
    "from tools import prepare_pmi\n",
    "prepare_pmi(a)"
   ]
  },
  {
   "cell_type": "code",
   "execution_count": null,
   "id": "b316ec19-6dd6-4391-88a3-d385aaca0a6f",
   "metadata": {},
   "outputs": [],
   "source": []
  }
 ],
 "metadata": {
  "kernelspec": {
   "display_name": "Python 3",
   "language": "python",
   "name": "python3"
  },
  "language_info": {
   "codemirror_mode": {
    "name": "ipython",
    "version": 3
   },
   "file_extension": ".py",
   "mimetype": "text/x-python",
   "name": "python",
   "nbconvert_exporter": "python",
   "pygments_lexer": "ipython3",
   "version": "3.7.10"
  }
 },
 "nbformat": 4,
 "nbformat_minor": 5
}
