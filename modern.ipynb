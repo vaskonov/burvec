{
 "cells": [
  {
   "cell_type": "code",
   "execution_count": 1,
   "id": "4b40ec46",
   "metadata": {},
   "outputs": [
    {
     "name": "stderr",
     "output_type": "stream",
     "text": [
      "/home/com/miniconda2/envs/py37/lib/python3.7/site-packages/gensim/similarities/__init__.py:15: UserWarning: The gensim.similarities.levenshtein submodule is disabled, because the optional Levenshtein package <https://pypi.org/project/python-Levenshtein/> is unavailable. Install Levenhstein (e.g. `pip install python-Levenshtein`) to suppress this warning.\n",
      "  warnings.warn(msg)\n"
     ]
    }
   ],
   "source": [
    "%load_ext autoreload\n",
    "%autoreload 2\n",
    "\n",
    "import sys\n",
    "import json\n",
    "from tools import *\n",
    "from pathlib import Path"
   ]
  },
  {
   "cell_type": "code",
   "execution_count": 2,
   "id": "5d539279",
   "metadata": {},
   "outputs": [],
   "source": [
    "# https://dumps.wikimedia.org/backup-index.html"
   ]
  },
  {
   "cell_type": "code",
   "execution_count": 2,
   "id": "e34196b9",
   "metadata": {},
   "outputs": [],
   "source": [
    "windows = [2, 5, 10]\n",
    "min_count = 10\n",
    "vector_sizes = [50, 100, 500]\n",
    "languages = ['bxr', 'myv', 'kv']"
   ]
  },
  {
   "cell_type": "code",
   "execution_count": 12,
   "id": "1e890ad7",
   "metadata": {},
   "outputs": [],
   "source": [
    "# window = windows[1]\n",
    "# vector_size = vector_sizes[1]\n",
    "language = languages[1]"
   ]
  },
  {
   "cell_type": "code",
   "execution_count": null,
   "id": "e6f4f1b7",
   "metadata": {},
   "outputs": [],
   "source": [
    "# path = Path(\"./embeddings/\"+str(vector_size)+\"/\"+str(window))\n",
    "# wes = list(path.iterdir())\n",
    "# for we in wes:\n",
    "#     we.unlink()\n",
    "# path.rmdir()\n",
    "path.mkdir(parents=True)"
   ]
  },
  {
   "cell_type": "code",
   "execution_count": 3,
   "id": "576ca372",
   "metadata": {},
   "outputs": [
    {
     "name": "stdout",
     "output_type": "stream",
     "text": [
      "number of articles: 2783\n"
     ]
    }
   ],
   "source": [
    "wiki2text('/tmp/kvwiki-20211001-pages-articles.xml.bz2', 'kvwiki.txt')\n"
   ]
  },
  {
   "cell_type": "code",
   "execution_count": 13,
   "id": "d710d5ca",
   "metadata": {},
   "outputs": [
    {
     "name": "stdout",
     "output_type": "stream",
     "text": [
      "number of articles: 1623\n"
     ]
    }
   ],
   "source": [
    "wiki2text(language+'wiki.xml.bz2', language+'.txt')"
   ]
  },
  {
   "cell_type": "code",
   "execution_count": 9,
   "id": "4d73e70c",
   "metadata": {},
   "outputs": [
    {
     "name": "stdout",
     "output_type": "stream",
     "text": [
      "vector_size: 50 window: 2\n",
      "vector_size: 50 window: 5\n",
      "vector_size: 50 window: 10\n",
      "vector_size: 100 window: 2\n",
      "vector_size: 100 window: 5\n",
      "vector_size: 100 window: 10\n",
      "vector_size: 500 window: 2\n",
      "vector_size: 500 window: 5\n",
      "vector_size: 500 window: 10\n"
     ]
    }
   ],
   "source": [
    "for vector_size in vector_sizes:\n",
    "    for window in windows:\n",
    "        print(\"vector_size:\", vector_size, \"window:\", window)\n",
    "        pt = \"./embeddings/\"+language+\"/\"+str(vector_size)+\"/\"+str(window)+\"/\"\n",
    "        w2v(vector_size, window, min_count, fname=pt+\"cbow\", fcorpus=language+\".txt\", sg=0)\n",
    "        w2v(vector_size, window, min_count, fname=pt+\"sg\", fcorpus=language+\".txt\", sg=1)\n",
    "        ft(vector_size, window, min_count, fname=pt+\"ft\", fcorpus=language+\".txt\")"
   ]
  },
  {
   "cell_type": "code",
   "execution_count": 5,
   "id": "ab1c3d2b",
   "metadata": {},
   "outputs": [
    {
     "name": "stdout",
     "output_type": "stream",
     "text": [
      "[PosixPath('embeddings/bxr/50/2/ft'), PosixPath('embeddings/bxr/50/2/pmi'), PosixPath('embeddings/bxr/50/2/cbow'), PosixPath('embeddings/bxr/50/2/sg'), PosixPath('embeddings/bxr/50/2/glove')]\n",
      "embeddings/bxr/50/2/ft 6124\n",
      "embeddings/bxr/50/2/pmi 86330\n",
      "embeddings/bxr/50/2/cbow 6124\n",
      "embeddings/bxr/50/2/sg 6124\n",
      "embeddings/bxr/50/2/glove 6125\n",
      "6124\n",
      "embeddings/bxr/50/2/ft\n",
      "embeddings/bxr/50/2/pmi\n",
      "embeddings/bxr/50/2/cbow\n",
      "embeddings/bxr/50/2/sg\n",
      "embeddings/bxr/50/2/glove\n",
      "[PosixPath('embeddings/bxr/50/5/ft'), PosixPath('embeddings/bxr/50/5/pmi'), PosixPath('embeddings/bxr/50/5/cbow'), PosixPath('embeddings/bxr/50/5/sg'), PosixPath('embeddings/bxr/50/5/glove')]\n",
      "embeddings/bxr/50/5/ft 6124\n",
      "embeddings/bxr/50/5/pmi 86330\n",
      "embeddings/bxr/50/5/cbow 6124\n",
      "embeddings/bxr/50/5/sg 6124\n",
      "embeddings/bxr/50/5/glove 6125\n",
      "6124\n",
      "embeddings/bxr/50/5/ft\n",
      "embeddings/bxr/50/5/pmi\n",
      "embeddings/bxr/50/5/cbow\n",
      "embeddings/bxr/50/5/sg\n",
      "embeddings/bxr/50/5/glove\n",
      "[PosixPath('embeddings/bxr/50/10/ft'), PosixPath('embeddings/bxr/50/10/pmi'), PosixPath('embeddings/bxr/50/10/cbow'), PosixPath('embeddings/bxr/50/10/sg'), PosixPath('embeddings/bxr/50/10/glove')]\n",
      "embeddings/bxr/50/10/ft 6124\n",
      "embeddings/bxr/50/10/pmi 86330\n",
      "embeddings/bxr/50/10/cbow 6124\n",
      "embeddings/bxr/50/10/sg 6124\n",
      "embeddings/bxr/50/10/glove 6125\n",
      "6124\n",
      "embeddings/bxr/50/10/ft\n",
      "embeddings/bxr/50/10/pmi\n",
      "embeddings/bxr/50/10/cbow\n",
      "embeddings/bxr/50/10/sg\n",
      "embeddings/bxr/50/10/glove\n",
      "[PosixPath('embeddings/bxr/100/2/ft'), PosixPath('embeddings/bxr/100/2/pmi'), PosixPath('embeddings/bxr/100/2/cbow'), PosixPath('embeddings/bxr/100/2/sg'), PosixPath('embeddings/bxr/100/2/glove')]\n",
      "embeddings/bxr/100/2/ft 6124\n",
      "embeddings/bxr/100/2/pmi 86330\n",
      "embeddings/bxr/100/2/cbow 6124\n",
      "embeddings/bxr/100/2/sg 6124\n",
      "embeddings/bxr/100/2/glove 6125\n",
      "6124\n",
      "embeddings/bxr/100/2/ft\n",
      "embeddings/bxr/100/2/pmi\n",
      "embeddings/bxr/100/2/cbow\n",
      "embeddings/bxr/100/2/sg\n",
      "embeddings/bxr/100/2/glove\n",
      "[PosixPath('embeddings/bxr/100/5/ft'), PosixPath('embeddings/bxr/100/5/pmi'), PosixPath('embeddings/bxr/100/5/cbow'), PosixPath('embeddings/bxr/100/5/sg'), PosixPath('embeddings/bxr/100/5/glove')]\n",
      "embeddings/bxr/100/5/ft 6124\n",
      "embeddings/bxr/100/5/pmi 86330\n",
      "embeddings/bxr/100/5/cbow 6124\n",
      "embeddings/bxr/100/5/sg 6124\n",
      "embeddings/bxr/100/5/glove 6125\n",
      "6124\n",
      "embeddings/bxr/100/5/ft\n",
      "embeddings/bxr/100/5/pmi\n",
      "embeddings/bxr/100/5/cbow\n",
      "embeddings/bxr/100/5/sg\n",
      "embeddings/bxr/100/5/glove\n",
      "[PosixPath('embeddings/bxr/100/10/ft'), PosixPath('embeddings/bxr/100/10/pmi'), PosixPath('embeddings/bxr/100/10/cbow'), PosixPath('embeddings/bxr/100/10/sg'), PosixPath('embeddings/bxr/100/10/glove')]\n",
      "embeddings/bxr/100/10/ft 6124\n",
      "embeddings/bxr/100/10/pmi 86330\n",
      "embeddings/bxr/100/10/cbow 6124\n",
      "embeddings/bxr/100/10/sg 6124\n",
      "embeddings/bxr/100/10/glove 6125\n",
      "6124\n",
      "embeddings/bxr/100/10/ft\n",
      "embeddings/bxr/100/10/pmi\n",
      "embeddings/bxr/100/10/cbow\n",
      "embeddings/bxr/100/10/sg\n",
      "embeddings/bxr/100/10/glove\n",
      "[PosixPath('embeddings/bxr/500/2/ft'), PosixPath('embeddings/bxr/500/2/pmi'), PosixPath('embeddings/bxr/500/2/cbow'), PosixPath('embeddings/bxr/500/2/sg'), PosixPath('embeddings/bxr/500/2/glove')]\n",
      "embeddings/bxr/500/2/ft 6124\n",
      "embeddings/bxr/500/2/pmi 86330\n",
      "embeddings/bxr/500/2/cbow 6124\n",
      "embeddings/bxr/500/2/sg 6124\n",
      "embeddings/bxr/500/2/glove 6125\n",
      "6124\n",
      "embeddings/bxr/500/2/ft\n",
      "embeddings/bxr/500/2/pmi\n",
      "embeddings/bxr/500/2/cbow\n",
      "embeddings/bxr/500/2/sg\n",
      "embeddings/bxr/500/2/glove\n",
      "[PosixPath('embeddings/bxr/500/5/ft'), PosixPath('embeddings/bxr/500/5/pmi'), PosixPath('embeddings/bxr/500/5/cbow'), PosixPath('embeddings/bxr/500/5/sg'), PosixPath('embeddings/bxr/500/5/glove')]\n",
      "embeddings/bxr/500/5/ft 6124\n",
      "embeddings/bxr/500/5/pmi 86330\n",
      "embeddings/bxr/500/5/cbow 6124\n",
      "embeddings/bxr/500/5/sg 6124\n",
      "embeddings/bxr/500/5/glove 6125\n",
      "6124\n",
      "embeddings/bxr/500/5/ft\n",
      "embeddings/bxr/500/5/pmi\n",
      "embeddings/bxr/500/5/cbow\n",
      "embeddings/bxr/500/5/sg\n",
      "embeddings/bxr/500/5/glove\n",
      "[PosixPath('embeddings/bxr/500/10/ft'), PosixPath('embeddings/bxr/500/10/cbow'), PosixPath('embeddings/bxr/500/10/sg'), PosixPath('embeddings/bxr/500/10/glove')]\n",
      "embeddings/bxr/500/10/ft 6124\n",
      "embeddings/bxr/500/10/cbow 6124\n",
      "embeddings/bxr/500/10/sg 6124\n",
      "embeddings/bxr/500/10/glove 6125\n",
      "6124\n",
      "embeddings/bxr/500/10/ft\n",
      "embeddings/bxr/500/10/cbow\n",
      "embeddings/bxr/500/10/sg\n",
      "embeddings/bxr/500/10/glove\n"
     ]
    }
   ],
   "source": [
    "scores_d = {}\n",
    "for language in ['bxr']:\n",
    "    scores_d[language]={}\n",
    "    for vector_size in vector_sizes:\n",
    "        for window in windows:            \n",
    "            pt = \"./embeddings/\"+language+\"/\"+str(vector_size)+\"/\"+str(window)+\"/\"\n",
    "            path = Path(pt)\n",
    "            wes = list(path.iterdir())\n",
    "            print(wes)\n",
    "            vocab = get_vocab(wes)\n",
    "            print(len(vocab))\n",
    "            for we in wes:\n",
    "                l = we.stem\n",
    "                \n",
    "                if l not in scores_d[language]:\n",
    "                    scores_d[language][l] = {}\n",
    "                    \n",
    "                if vector_size not in scores_d[language][l]:\n",
    "                    scores_d[language][l][vector_size] = {}\n",
    "                    \n",
    "                print(we)\n",
    "                scores = score(\"./evaluation/\"+language+\".json\", we, vocab)\n",
    "                scores_d[language][l][vector_size][window] = loss(scores).item()"
   ]
  },
  {
   "cell_type": "code",
   "execution_count": 7,
   "id": "493dc8f5-8116-431c-bf38-79bd39e60e06",
   "metadata": {},
   "outputs": [
    {
     "data": {
      "text/plain": [
       "{'bxr': {'ft': {50: {2: 0.2778688353647105,\n",
       "    5: 0.3012650839698187,\n",
       "    10: 0.31596595031395713},\n",
       "   100: {2: 0.2802148802448385,\n",
       "    5: 0.3025263207309292,\n",
       "    10: 0.31668686171606214},\n",
       "   500: {2: 0.27333772329384487,\n",
       "    5: 0.29461021613638866,\n",
       "    10: 0.31301374438054236}},\n",
       "  'pmi': {50: {2: 0.1915103441963496,\n",
       "    5: 0.18108895202798705,\n",
       "    10: 0.17846559042252258},\n",
       "   100: {2: 0.24404603684450865,\n",
       "    5: 0.2282080275470952,\n",
       "    10: 0.2269734618190567},\n",
       "   500: {2: 0.38884923456708675, 5: 0.36220756326756526}},\n",
       "  'cbow': {50: {2: 0.11707870393915454,\n",
       "    5: 0.13447264845238993,\n",
       "    10: 0.1573937893438196},\n",
       "   100: {2: 0.1106555274258771,\n",
       "    5: 0.12987812670761012,\n",
       "    10: 0.15292283969683093},\n",
       "   500: {2: 0.10156247854278538,\n",
       "    5: 0.1246174197062411,\n",
       "    10: 0.14977435630289163}},\n",
       "  'sg': {50: {2: 0.1560990674898125,\n",
       "    5: 0.1881720559397956,\n",
       "    10: 0.2166377696261504},\n",
       "   100: {2: 0.1542845541565819,\n",
       "    5: 0.19299142821560064,\n",
       "    10: 0.23264272779413478},\n",
       "   500: {2: 0.1471509318691073,\n",
       "    5: 0.1890804071721437,\n",
       "    10: 0.2284892764705665}},\n",
       "  'glove': {50: {2: 0.4217147570885419,\n",
       "    5: 0.38054446804270803,\n",
       "    10: 0.3698604592973118},\n",
       "   100: {2: 0.4292232535574016, 5: 0.400710131000216, 10: 0.3854632280434688},\n",
       "   500: {2: 0.43316174326620815,\n",
       "    5: 0.4052865997551408,\n",
       "    10: 0.3953552884851436}}}}"
      ]
     },
     "execution_count": 7,
     "metadata": {},
     "output_type": "execute_result"
    }
   ],
   "source": [
    "scores_d"
   ]
  },
  {
   "cell_type": "code",
   "execution_count": 23,
   "id": "cffd5234-7827-431b-8ca7-0f5acf4ee6a2",
   "metadata": {},
   "outputs": [
    {
     "name": "stdout",
     "output_type": "stream",
     "text": [
      "ft\n",
      "& 50  &  0.278 & 0.301 & 0.316 \\\\ \\hline\n",
      "& 100  &  0.28 & 0.303 & 0.317 \\\\ \\hline\n",
      "& 500  &  0.273 & 0.295 & 0.313 \\\\ \\hline\n",
      "pmi\n",
      "& 50  &  0.192 & 0.181 & 0.178 \\\\ \\hline\n",
      "& 100  &  0.244 & 0.228 & 0.227 \\\\ \\hline\n",
      "& 500  &  0.389 & 0.362 \\\\ \\hline\n",
      "cbow\n",
      "& 50  &  0.117 & 0.134 & 0.157 \\\\ \\hline\n",
      "& 100  &  0.111 & 0.13 & 0.153 \\\\ \\hline\n",
      "& 500  &  0.102 & 0.125 & 0.15 \\\\ \\hline\n",
      "sg\n",
      "& 50  &  0.156 & 0.188 & 0.217 \\\\ \\hline\n",
      "& 100  &  0.154 & 0.193 & 0.233 \\\\ \\hline\n",
      "& 500  &  0.147 & 0.189 & 0.228 \\\\ \\hline\n",
      "glove\n",
      "& 50  &  0.422 & 0.381 & 0.37 \\\\ \\hline\n",
      "& 100  &  0.429 & 0.401 & 0.385 \\\\ \\hline\n",
      "& 500  &  0.433 & 0.405 & 0.395 \\\\ \\hline\n"
     ]
    }
   ],
   "source": [
    "import sys\n",
    "for method, scores in scores_d['bxr'].items():\n",
    "    print(method)\n",
    "    for vector_size, windows in scores.items():\n",
    "#         print(windows.keys())\n",
    "        ws = [str(round(a,3)) for a in list(windows.values())]\n",
    "        print(\"&\",vector_size,\" & \",\" & \".join(ws),\"\\\\\\\\\",\"\\\\hline\")"
   ]
  },
  {
   "cell_type": "code",
   "execution_count": null,
   "id": "cf4e30f1",
   "metadata": {},
   "outputs": [],
   "source": [
    "from gensim.test.utils import datapath, get_tmpfile\n",
    "from gensim.scripts.glove2word2vec import glove2word2vec\n",
    "\n",
    "language = 'bxr'\n",
    "fname = language+\".txt\"\n",
    "\n",
    "for vector_size in vector_sizes:\n",
    "    for window in windows:\n",
    "        pt = \"./embeddings/\"+language+\"/\"+str(vector_size)+\"/\"+str(window)+\"/\"\n",
    "        wef = \"/tmp/\"+str(vector_size)+str(window)\n",
    "        !glove/vocab_count -min-count $min_count -verbose 2 < $fname > /tmp/vocab.txt\n",
    "        !glove/cooccur -memory 4.0 -vocab-file /tmp/vocab.txt -verbose 2 -window-size $window  < bxr.txt > /tmp/cooccurrence\n",
    "        !glove/shuffle -memory 4.0 -verbose 2 < /tmp/cooccurrence > /tmp/cooccurrence.shuf\n",
    "        !glove/glove -save-file $wef -threads 8 -input-file /tmp/cooccurrence.shuf -x-max 10 -iter 20 -vector-size $vector_size -binary 0 -vocab-file /tmp/vocab.txt -verbose 2\n",
    "\n",
    "        glove_file = datapath(wef+\".txt\")\n",
    "        tmp_file = datapath(pt+\"glove\")\n",
    "        _ = glove2word2vec(glove_file,pt+\"glove\")"
   ]
  },
  {
   "cell_type": "code",
   "execution_count": null,
   "id": "368fbc93",
   "metadata": {},
   "outputs": [],
   "source": [
    "for we in wes:\n",
    "    print(we)\n",
    "    scores = score(\"./evaluation/\"+language+\".json\", we, vocab)\n",
    "    print(loss(scores))"
   ]
  },
  {
   "cell_type": "code",
   "execution_count": null,
   "id": "93c71b49",
   "metadata": {},
   "outputs": [],
   "source": [
    "\n",
    "ғаилә атай әсәй ағаһы һеңлеһе\n",
    "семья папа мама брат сестра\n",
    "\n",
    "илдә район ауыл ҡала\n",
    "страна район село деревня\n",
    "\n",
    "йылға волга  лена\n",
    "река волга нил лена\n",
    "\n",
    "теле урыҫ башҡорт татарскийй\n",
    "язык русский бурятский\n",
    "\n",
    "дин католик мосолман\n",
    "религия католики мусульмане\n",
    "\n",
    "тауҙар урал ҡаф\n",
    "гора\n",
    "\n",
    "фәндәре математика астрономия\n",
    "науки\n",
    "\n",
    "эсемлектәр һыу сәй һут һөт\n",
    "напиток вода чай сок молоко простокваша\n",
    "\n",
    "мал һарыҡ һыйыр аттар\n",
    "скот овца корова конь\n",
    "\n",
    "кейем кәпәс елән итек\n",
    "одежда шапка рукавицы халат сапоги\n",
    "\n",
    "яраҡ тәрилкә ҡалаҡ түңәрәге\n",
    "посуда тарелка ложка уружка сковородка\n",
    "\n",
    "ҡош төйлөгән ҡарлуғастар орел\n",
    "птица коршун ласточка воробей орел\n",
    "сустав\n",
    " \n",
    "йөҙҙәре күҙҙәре танау ирен маңлайына\n",
    "лицо глаза нос губа лоб\n",
    "\n",
    "тәне аяғы  ҡулында арҡаһына күкрәгенә ҡорһаҡ\n",
    "тело нога рука спина грудь живот\n",
    "\n",
    "ҡояш\n",
    "солнце роса туман град иней ливень\n",
    "\n",
    "сәскә ҡыҙыл күк йәшел\n",
    "цвет красный синий зеленый\n",
    "\n",
    "туҡыма ебәк йөн бәрхәт\n",
    "ткань шелк шерсть бархат\n",
    "\n",
    "әҫәр йомаҡтар әйтемдәр әкиәт\n",
    "книга загадка поговорка былина сказка\n",
    "\n",
    "йорт ишек ҡапҡа диуар ҡыйыҡ баҫҡыстары\n",
    "дом дверь ворота стена кровля лестница крыльцо\n",
    "\n",
    "вкус\n",
    "вкус сладкий соленый горький\n",
    " \n",
    "мәктәп уҡытыусы уҡыу студенттар\n",
    "школа учитель ученик студент\n",
    "\n",
    "йыһан ғаләм йондоҙҙар лун\n",
    "космос вселенная звезда луна"
   ]
  },
  {
   "cell_type": "code",
   "execution_count": null,
   "id": "a96c322d",
   "metadata": {},
   "outputs": [],
   "source": [
    "%load_ext autoreload\n",
    "%autoreload 2\n",
    "\n",
    "windows = [2, 5, 10]\n",
    "min_count = 10\n",
    "vector_sizes = [50, 100, 500]\n",
    "languages = ['bxr', 'myv', 'kv']\n",
    "\n",
    "from pmi import *\n",
    "language = languages[0]\n",
    "print(language)\n",
    "\n",
    "x = []\n",
    "with open(language+\".txt\") as file:\n",
    "    for l in file:\n",
    "        x.append(l.strip())\n",
    "\n",
    "for vector_size in vector_sizes:\n",
    "    for window in windows:\n",
    "        a = build_pairs(x, window)\n",
    "        prepare_pmi(a)\n",
    "        pmi(vector_size)\n",
    "        convert(\"/tmp/space.dm\", \"./embeddings/\"+language+\"/\"+str(vector_size)+\"/\"+str(window)+\"/pmi\")"
   ]
  },
  {
   "cell_type": "code",
   "execution_count": null,
   "id": "bb2ef376",
   "metadata": {},
   "outputs": [],
   "source": []
  }
 ],
 "metadata": {
  "kernelspec": {
   "display_name": "Python 3",
   "language": "python",
   "name": "python3"
  },
  "language_info": {
   "codemirror_mode": {
    "name": "ipython",
    "version": 3
   },
   "file_extension": ".py",
   "mimetype": "text/x-python",
   "name": "python",
   "nbconvert_exporter": "python",
   "pygments_lexer": "ipython3",
   "version": "3.7.10"
  }
 },
 "nbformat": 4,
 "nbformat_minor": 5
}
