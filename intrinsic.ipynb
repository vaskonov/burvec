{
 "cells": [
  {
   "cell_type": "code",
   "execution_count": null,
   "id": "c398248d-5265-4496-ba10-08435a53e61a",
   "metadata": {},
   "outputs": [],
   "source": [
    "from src.eval import *\n",
    "from pathlib import Path"
   ]
  },
  {
   "cell_type": "code",
   "execution_count": null,
   "id": "d7cb9631-3a45-4b40-9291-dd883bb0e992",
   "metadata": {},
   "outputs": [],
   "source": [
    "min_count = 10\n",
    "windows = [5]#[2, 5, 10]\n",
    "vector_sizes = [50]#[50, 100, 500]\n",
    "languages = ['myv']#['bxr', 'myv', 'kv']"
   ]
  },
  {
   "cell_type": "code",
   "execution_count": null,
   "id": "76d625bd-93a7-444a-a103-ba3abbddbbce",
   "metadata": {},
   "outputs": [],
   "source": [
    "scores_d = {}\n",
    "for language in languages:\n",
    "    print(language)\n",
    "    scores_d[language]={}\n",
    "    for vector_size in vector_sizes:\n",
    "        for window in windows:            \n",
    "            pt = \"./embeddings/\"+language+\"/\"+str(vector_size)+\"/\"+str(window)+\"/\"\n",
    "            path = Path(pt)\n",
    "            wes = list(path.iterdir())\n",
    "            print(wes)\n",
    "            vocab = get_vocab(wes)\n",
    "            print('Vocab',len(vocab))\n",
    "            for we in wes:\n",
    "                l = we.stem\n",
    "                \n",
    "                if l=='ft':\n",
    "                    continue\n",
    "                \n",
    "                if l not in scores_d[language]:\n",
    "                    scores_d[language][l] = {}\n",
    "                    \n",
    "                if vector_size not in scores_d[language][l]:\n",
    "                    scores_d[language][l][vector_size] = {}\n",
    "                    \n",
    "                print(we)\n",
    "                scores = score(\"./evaluation/\"+language+\".json\", we, vocab)\n",
    "                scores_d[language][l][vector_size][window] = loss(scores).item()"
   ]
  }
 ],
 "metadata": {
  "kernelspec": {
   "display_name": "Python 3",
   "language": "python",
   "name": "python3"
  },
  "language_info": {
   "codemirror_mode": {
    "name": "ipython",
    "version": 3
   },
   "file_extension": ".py",
   "mimetype": "text/x-python",
   "name": "python",
   "nbconvert_exporter": "python",
   "pygments_lexer": "ipython3",
   "version": "3.7.10"
  }
 },
 "nbformat": 4,
 "nbformat_minor": 5
}
