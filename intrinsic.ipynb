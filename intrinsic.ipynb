{
 "cells": [
  {
   "cell_type": "code",
   "execution_count": 1,
   "id": "c398248d-5265-4496-ba10-08435a53e61a",
   "metadata": {},
   "outputs": [
    {
     "name": "stderr",
     "output_type": "stream",
     "text": [
      "/home/com/miniconda2/envs/py37/lib/python3.7/site-packages/gensim/similarities/__init__.py:15: UserWarning: The gensim.similarities.levenshtein submodule is disabled, because the optional Levenshtein package <https://pypi.org/project/python-Levenshtein/> is unavailable. Install Levenhstein (e.g. `pip install python-Levenshtein`) to suppress this warning.\n",
      "  warnings.warn(msg)\n"
     ]
    }
   ],
   "source": [
    "from src.eval import *\n",
    "from pathlib import Path"
   ]
  },
  {
   "cell_type": "code",
   "execution_count": 2,
   "id": "d7cb9631-3a45-4b40-9291-dd883bb0e992",
   "metadata": {},
   "outputs": [],
   "source": [
    "min_count = 10\n",
    "windows = [5]#[2, 5, 10]\n",
    "vector_sizes = [50]#[50, 100, 500]\n",
    "languages = ['myv']#['bxr', 'myv', 'kv']"
   ]
  },
  {
   "cell_type": "code",
   "execution_count": 5,
   "id": "76d625bd-93a7-444a-a103-ba3abbddbbce",
   "metadata": {},
   "outputs": [
    {
     "name": "stdout",
     "output_type": "stream",
     "text": [
      "myv\n",
      "[PosixPath('embeddings/myv/50/5/pmi'), PosixPath('embeddings/myv/50/5/cbow'), PosixPath('embeddings/myv/50/5/sg'), PosixPath('embeddings/myv/50/5/glove')]\n",
      "embeddings/myv/50/5/pmi 6949\n",
      "embeddings/myv/50/5/cbow 6949\n",
      "embeddings/myv/50/5/sg 6949\n",
      "embeddings/myv/50/5/glove 6950\n",
      "Vocab 6949\n",
      "embeddings/myv/50/5/pmi\n",
      "embeddings/myv/50/5/cbow\n",
      "embeddings/myv/50/5/sg\n",
      "embeddings/myv/50/5/glove\n"
     ]
    }
   ],
   "source": [
    "scores_d = {}\n",
    "for language in languages:\n",
    "    print(language)\n",
    "    scores_d[language]={}\n",
    "    for vector_size in vector_sizes:\n",
    "        for window in windows:            \n",
    "            pt = \"./embeddings/\"+language+\"/\"+str(vector_size)+\"/\"+str(window)+\"/\"\n",
    "            path = Path(pt)\n",
    "            wes = list(path.iterdir())\n",
    "            print(wes)\n",
    "            vocab = get_vocab(wes)\n",
    "            print('Vocab',len(vocab))\n",
    "            for we in wes:\n",
    "                l = we.stem\n",
    "                \n",
    "                if l=='ft':\n",
    "                    continue\n",
    "                \n",
    "                if l not in scores_d[language]:\n",
    "                    scores_d[language][l] = {}\n",
    "                    \n",
    "                if vector_size not in scores_d[language][l]:\n",
    "                    scores_d[language][l][vector_size] = {}\n",
    "                    \n",
    "                print(we)\n",
    "                scores = score(\"./evaluation/\"+language+\".json\", we, vocab)\n",
    "                scores_d[language][l][vector_size][window] = loss(scores).item()"
   ]
  },
  {
   "cell_type": "code",
   "execution_count": 6,
   "id": "cbe34e60-6704-43d8-aa8a-3320fae2e100",
   "metadata": {},
   "outputs": [
    {
     "data": {
      "text/plain": [
       "{'myv': {'pmi': {50: {5: 0.38852001575465234}},\n",
       "  'cbow': {50: {5: 0.3700438045213832}},\n",
       "  'sg': {50: {5: 0.4362453580970562}},\n",
       "  'glove': {50: {5: 0.47533670804829786}}}}"
      ]
     },
     "execution_count": 6,
     "metadata": {},
     "output_type": "execute_result"
    }
   ],
   "source": [
    "scores_d"
   ]
  },
  {
   "cell_type": "code",
   "execution_count": null,
   "id": "bd09d8ac-b9f7-4904-8ce0-934ba726148f",
   "metadata": {},
   "outputs": [],
   "source": []
  }
 ],
 "metadata": {
  "kernelspec": {
   "display_name": "Python 3",
   "language": "python",
   "name": "python3"
  },
  "language_info": {
   "codemirror_mode": {
    "name": "ipython",
    "version": 3
   },
   "file_extension": ".py",
   "mimetype": "text/x-python",
   "name": "python",
   "nbconvert_exporter": "python",
   "pygments_lexer": "ipython3",
   "version": "3.7.10"
  }
 },
 "nbformat": 4,
 "nbformat_minor": 5
}
